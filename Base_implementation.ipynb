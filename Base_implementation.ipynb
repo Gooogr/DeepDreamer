{
 "cells": [
  {
   "cell_type": "code",
   "execution_count": 27,
   "metadata": {},
   "outputs": [],
   "source": [
    "import scipy\n",
    "import numpy as np\n",
    "import cv2\n",
    "from keras.applications import inception_v3\n",
    "from keras import backend as K\n",
    "from keras.preprocessing import image"
   ]
  },
  {
   "cell_type": "code",
   "execution_count": 2,
   "metadata": {},
   "outputs": [],
   "source": [
    "# Constants\n",
    "DEMO_IMAGE_PATH = './test_images/flower_valley.jpg'"
   ]
  },
  {
   "cell_type": "code",
   "execution_count": 3,
   "metadata": {},
   "outputs": [],
   "source": [
    "# Loop's hyperparameters\n",
    "STEP = 0.01          # Value of the gradient ascent step\n",
    "NUM_OCTAVE = 3       # Octave amount\n",
    "OCTAVE_SCALE = 1.4   # Scale of each octave (look at the picture at the end of notebook)\n",
    "ITERATIONS = 20      # Iterations amount on the each octave\n",
    "MAX_LOSS = 10.       # Max loss that prevent ugly artifacts"
   ]
  },
  {
   "cell_type": "code",
   "execution_count": 4,
   "metadata": {},
   "outputs": [],
   "source": [
    "K.set_learning_phase(0) #Set learning phase = 0 (test mode). Prevent model learning for safety reasons."
   ]
  },
  {
   "cell_type": "code",
   "execution_count": 5,
   "metadata": {},
   "outputs": [],
   "source": [
    "model = inception_v3.InceptionV3(weights='imagenet', include_top=False)"
   ]
  },
  {
   "cell_type": "code",
   "execution_count": 6,
   "metadata": {},
   "outputs": [],
   "source": [
    "# Layers could be from mixed0 up to mixed10\n",
    "# Check names with command model.summary()\n",
    "layer_contribution = {\n",
    "    'mixed2': 0.2,\n",
    "    'mixed3': 3.,\n",
    "    'mixed4': 2.,\n",
    "    'mixed5': 1.5\n",
    "}"
   ]
  },
  {
   "cell_type": "code",
   "execution_count": 7,
   "metadata": {},
   "outputs": [],
   "source": [
    "# Loss calculation (L2_norm of layers outputs)\n",
    "layer_dict = dict([(layer.name, layer) for layer in model.layers])\n",
    "loss = K.variable(0.)\n",
    "\n",
    "for layer_name in layer_contribution:\n",
    "    coeff = layer_contribution[layer_name]\n",
    "    # Get layer output\n",
    "    activation = layer_dict[layer_name].output\n",
    "    # Calculate L2 norm\n",
    "    scaling = K.prod(K.cast(K.shape(activation), 'float32'))\n",
    "    loss += coeff * K.sum(K.square(activation)) / scaling  #test without -2:2 and so on"
   ]
  },
  {
   "cell_type": "markdown",
   "metadata": {},
   "source": [
    "### Setting up gradient ascent"
   ]
  },
  {
   "cell_type": "code",
   "execution_count": 24,
   "metadata": {},
   "outputs": [],
   "source": [
    "## Create K.function to fetch loss and gradients from model input\n",
    "\n",
    "# Create tensor for result storing\n",
    "dream = model.input \n",
    "# Fetch gradient and normalize it\n",
    "grads = K.gradients(loss = loss, variables = dream)[0]\n",
    "grads /= K.maximum(K.mean(K.abs(grads)), 1e-7)  #1e-7 - safety measure to avoid division by 0\n",
    "# And now we provide link between current result and his gradients with losses\n",
    "fetch_loss_and_grads = K.function([dream], [loss, grads])\n",
    "\n",
    "# Gradient ascent's helper function\n",
    "def eval_loss_and_grads(x):\n",
    "    '''\n",
    "    Extract loss and grads values from current input state\n",
    "    Input:\n",
    "        Current state of model.input\n",
    "    Output:\n",
    "        Current values of loss and input gradients\n",
    "    '''\n",
    "    # Pass input x (it will be model.input) through  K.function([model.input], [loss, grads])\n",
    "    outs = fetch_loss_and_grads([x])\n",
    "    # Get values\n",
    "    loss_value = outs[0]\n",
    "    grad_values = outs[1]\n",
    "    return loss_value, grad_values\n",
    "    \n",
    "# Main function\n",
    "def gradient_ascent(x, iterations, step, max_loss=None, verbose=True):\n",
    "    '''\n",
    "    Performs the specified number of gradient ascent steps.\n",
    "    '''\n",
    "    for i in range(iterations):\n",
    "        loss_value, grad_values = eval_loss_and_grads(x)\n",
    "        if verbose:\n",
    "            print('Loss value at {} step: {:.3f}'.format(i, loss_value))\n",
    "        if max_loss is not None and loss_value > max_loss:\n",
    "            print('Current loss = {:.3f} exceeded max_loss = {:.3f}, ascent was finished'.format(loss_value, max_loss))\n",
    "            break\n",
    "        x += step * grad_values\n",
    "    return x"
   ]
  },
  {
   "cell_type": "markdown",
   "metadata": {},
   "source": [
    "### Deep Dream main loop"
   ]
  },
  {
   "cell_type": "code",
   "execution_count": 17,
   "metadata": {},
   "outputs": [],
   "source": [
    "# Base helper functions\n",
    "\n",
    "def preprocess_img(img_path):\n",
    "    '''\n",
    "    Convert raw image to the InceptionV3 input format\n",
    "    Input:\n",
    "        Path to file, str\n",
    "    Output:\n",
    "        Numpy arrray with shape [1, img_height, img_width, 3]\n",
    "    '''\n",
    "    img = image.load_img(img_path)\n",
    "    img = image.img_to_array(img)\n",
    "    img = np.expand_dims(img, axis=0)\n",
    "    img = inception_v3.preprocess_input(img)\n",
    "    return img\n",
    "\n",
    "def resize_img(img, size):\n",
    "    '''\n",
    "    Resize input image by zooming it\n",
    "    Input:\n",
    "        Numpy matrix with shape [1, img_height, img_width, 3]\n",
    "    Output:\n",
    "        Numpy matrix with shape [1, zoomed_img_height, zoomed_img_width, 3]\n",
    "    '''\n",
    "    img = np.copy(img)\n",
    "    factor = (1, float(size[0])/img.shape[1], float(size[1])/img.shape[2], 1)\n",
    "    return scipy.ndimage.zoom(img, factor, order=1) #order - spline interpolation order. Could be in range(0, 5)\n",
    "\n",
    "def deprocess_img(x):\n",
    "    '''\n",
    "    Convert InceptionV3's result input after gradient ascent to the np.array image\n",
    "    Input:\n",
    "        Numpy arrray with shape [1, img_height, img_width, 3]\n",
    "    Output:\n",
    "        Numpy arrray with shape [img_height, img_width, 3]\n",
    "    '''\n",
    "    if K.image_data_format() == 'channel_first':\n",
    "        x = x.reshape((3, x.shape[2], x.shape[3]))\n",
    "        x = x.transpose((1, 2, 0))\n",
    "    else:\n",
    "        x = x.reshape(x.shape[1], x.shape[2], 3)  \n",
    "    # Undo InceptionV3 preprocess input\n",
    "    x /= 2.\n",
    "    x += 0.5\n",
    "    x *= 255.\n",
    "    x = np.clip(x, 0, 255).astype('uint8')\n",
    "    return x\n",
    "    \n",
    "\n",
    "def save_img(img, file_name):\n",
    "    '''\n",
    "    Save image into png format\n",
    "    Input:\n",
    "        Numpy arrray with shape [1, img_height, img_width, 3]\n",
    "    Output:\n",
    "        None\n",
    "    '''\n",
    "    pil_img = deprocess_img(np.copy(img))\n",
    "    cv2.imwrite(file_name, pil_img)"
   ]
  },
  {
   "cell_type": "markdown",
   "metadata": {},
   "source": [
    "![alt text](./notebook_images/img1.png)"
   ]
  },
  {
   "cell_type": "code",
   "execution_count": 18,
   "metadata": {},
   "outputs": [],
   "source": [
    "# # Loop's hyperparameters\n",
    "# STEP = 0.01          # Value of the gradient ascent step\n",
    "# NUM_OCTAVE = 3       # Octave amount\n",
    "# OCTAVE_SCALE = 1.4   # Scale of each octave (look at the picture at the end of notebook)\n",
    "# ITERATIONS = 20      # Iterations amount on the each octave\n",
    "# MAX_LOSS = 10.       # Max loss that prevent ugly artifacts"
   ]
  },
  {
   "cell_type": "code",
   "execution_count": 28,
   "metadata": {},
   "outputs": [
    {
     "name": "stdout",
     "output_type": "stream",
     "text": [
      "Processing image shape:  (271, 408)\n",
      "Loss value at 0 step: 2.4181\n",
      "Loss value at 1 step: 3.1589\n",
      "Loss value at 2 step: 4.0558\n",
      "Loss value at 3 step: 4.9460\n",
      "Loss value at 4 step: 5.8067\n",
      "Loss value at 5 step: 6.6607\n",
      "Loss value at 6 step: 7.5126\n",
      "Loss value at 7 step: 8.3378\n",
      "Loss value at 8 step: 9.1201\n",
      "Loss value at 9 step: 9.9231\n",
      "Loss value at 10 step: 10.6791\n",
      "Current loss = 10.679125 exceeded max_loss = 10.000000, ascent was finished\n",
      "Processing image shape:  (380, 571)\n",
      "Loss value at 0 step: 3.3760\n",
      "Loss value at 1 step: 4.6584\n",
      "Loss value at 2 step: 5.8179\n",
      "Loss value at 3 step: 6.8233\n",
      "Loss value at 4 step: 7.8227\n",
      "Loss value at 5 step: 8.7256\n",
      "Loss value at 6 step: 9.6203\n",
      "Loss value at 7 step: 10.4525\n",
      "Current loss = 10.452514 exceeded max_loss = 10.000000, ascent was finished\n",
      "Processing image shape:  (533, 800)\n",
      "Loss value at 0 step: 3.1636\n",
      "Loss value at 1 step: 4.3904\n",
      "Loss value at 2 step: 5.4599\n",
      "Loss value at 3 step: 6.4159\n",
      "Loss value at 4 step: 7.3452\n",
      "Loss value at 5 step: 8.2259\n",
      "Loss value at 6 step: 9.1151\n",
      "Loss value at 7 step: 9.9269\n",
      "Loss value at 8 step: 10.7584\n",
      "Current loss = 10.758418 exceeded max_loss = 10.000000, ascent was finished\n",
      "Processing image shape:  (533, 800)\n",
      "Loss value at 0 step: 8.5372\n",
      "Loss value at 1 step: 10.3884\n",
      "Current loss = 10.388384 exceeded max_loss = 10.000000, ascent was finished\n"
     ]
    }
   ],
   "source": [
    "img = preprocess_img(DEMO_IMAGE_PATH)\n",
    "\n",
    "# Create list of shapes correspond with octave scales \n",
    "original_shape = img.shape[1:3]\n",
    "octave_shapes = [original_shape]\n",
    "for i in range(NUM_OCTAVE):\n",
    "    scaled_shape = tuple([int(dim/(OCTAVE_SCALE ** i)) for dim in original_shape])\n",
    "    octave_shapes.append(scaled_shape)\n",
    "octave_shapes = octave_shapes[::-1]\n",
    "\n",
    "\n",
    "orginal_img = np.copy(img)\n",
    "\n",
    "# Initialize shrunck image by the smallest image\n",
    "shrunck_original_img = resize_img(img, octave_shapes[0]) \n",
    "\n",
    "for shape in octave_shapes:\n",
    "    print('Processing image shape: ', shape)\n",
    "    # Image gradient ascenting \n",
    "    img = resize_img(img, shape)\n",
    "    img = gradient_ascent(img, ITERATIONS, STEP, MAX_LOSS)\n",
    "    # Lost detail computation\n",
    "    upscaled_shrunck_original_img = resize_img(shrunck_original_img, shape)\n",
    "    same_original_size = resize_img(orginal_img, shape)\n",
    "    lost_detail = same_original_size - upscaled_shrunck_original_img\n",
    "    # Impute details\n",
    "    img += lost_detail\n",
    "    save_img(img, './notebook_images/scale_{}.png'.format(shape))\n",
    "    \n",
    "    shrunck_original_img = resize_img(orginal_img, shape)\n",
    "    \n",
    "save_img(img, './notebook_images/result.png') \n",
    "print('Process finished, result was saved in the project root folder')"
   ]
  }
 ],
 "metadata": {
  "kernelspec": {
   "display_name": "Python 3",
   "language": "python",
   "name": "python3"
  },
  "language_info": {
   "codemirror_mode": {
    "name": "ipython",
    "version": 3
   },
   "file_extension": ".py",
   "mimetype": "text/x-python",
   "name": "python",
   "nbconvert_exporter": "python",
   "pygments_lexer": "ipython3",
   "version": "3.6.10"
  }
 },
 "nbformat": 4,
 "nbformat_minor": 4
}
